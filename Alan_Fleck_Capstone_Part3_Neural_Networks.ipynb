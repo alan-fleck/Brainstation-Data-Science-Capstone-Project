{
 "cells": [
  {
   "cell_type": "markdown",
   "metadata": {},
   "source": [
    "# Eyes in the Sky: Predicting Aircraft Damage Caused by Bird Strikes Using Machine Learning\n",
    "## Part 3: Neural Networks\n",
    "\n",
    "Alan da Silveira Fleck\n",
    "<br>\n",
    "alansfleck@gmail.com\n",
    "<br>\n",
    "27/09/2021"
   ]
  },
  {
   "cell_type": "markdown",
   "metadata": {},
   "source": [
    "# Introduction "
   ]
  },
  {
   "cell_type": "markdown",
   "metadata": {},
   "source": [
    "An Artificial Neural Network, or simply Neural Network, is a collection of connected units or nodes called artificial neurons, which loosely model the neurons in a biological brain [1]. It is divided into multiple layers that can be grouped into three categories:\n",
    "- **Input Layer**: This layer represents the underlying features of our independent variable. The number of input units corresponds to the number of features in our data.\n",
    "- **Hidden Layer**: The hidden layer(s) transform the input features into a format that is useful for classifying the data. The more hidden layers, and the more units in each layer, the more powerful the overall model is.\n",
    "- **Output Layer**: This layer represents the output choice of the model. For a classification task, which is the case here, we have one unit per class, where each neuron represents a possible class [2].\n",
    "\n",
    "The objective of Part 3 of this project is to build a neural network to predict damaging  bird strikes on airplanes. This notebook is a natural extension to Part 2, and the results of the advanced model built here will be compared to the results of the models from the previous notebook."
   ]
  },
  {
   "cell_type": "markdown",
   "metadata": {},
   "source": [
    "## Importing Packages and Reading the Data"
   ]
  },
  {
   "cell_type": "markdown",
   "metadata": {},
   "source": [
    "The codes below import the relevant packages and read the cleaned data from Part 1 into a data frame."
   ]
  },
  {
   "cell_type": "code",
   "execution_count": 1,
   "metadata": {},
   "outputs": [],
   "source": [
    "import pandas as pd\n",
    "import numpy as np\n",
    "from sklearn.model_selection import train_test_split\n",
    "from sklearn.preprocessing import StandardScaler\n",
    "from sklearn.metrics import confusion_matrix, accuracy_score,recall_score,precision_score,f1_score, roc_auc_score\n",
    "from sklearn.utils import resample\n",
    "import matplotlib.pyplot as plt\n",
    "from sklearn.metrics import plot_confusion_matrix, confusion_matrix\n",
    "\n",
    "# Import tensorflow\n",
    "import tensorflow as tf\n",
    "from tensorflow import keras\n",
    "from tensorflow.keras import layers\n"
   ]
  },
  {
   "cell_type": "code",
   "execution_count": 2,
   "metadata": {},
   "outputs": [
    {
     "data": {
      "text/html": [
       "<div>\n",
       "<style scoped>\n",
       "    .dataframe tbody tr th:only-of-type {\n",
       "        vertical-align: middle;\n",
       "    }\n",
       "\n",
       "    .dataframe tbody tr th {\n",
       "        vertical-align: top;\n",
       "    }\n",
       "\n",
       "    .dataframe thead th {\n",
       "        text-align: right;\n",
       "    }\n",
       "</style>\n",
       "<table border=\"1\" class=\"dataframe\">\n",
       "  <thead>\n",
       "    <tr style=\"text-align: right;\">\n",
       "      <th></th>\n",
       "      <th>is_airplane</th>\n",
       "      <th>is_more_1000ft</th>\n",
       "      <th>number_struck</th>\n",
       "      <th>is_damaged</th>\n",
       "      <th>number_engines</th>\n",
       "      <th>is_precipitation</th>\n",
       "      <th>wildlife_size</th>\n",
       "      <th>conditions_sky</th>\n",
       "      <th>is_pilot_warned</th>\n",
       "      <th>is_aircraft_large</th>\n",
       "      <th>Year</th>\n",
       "      <th>Month</th>\n",
       "      <th>Weekday</th>\n",
       "      <th>flight_phase_Approach</th>\n",
       "      <th>flight_phase_Climb</th>\n",
       "      <th>flight_phase_Descent</th>\n",
       "      <th>flight_phase_Landing Roll</th>\n",
       "      <th>flight_phase_Parked</th>\n",
       "      <th>flight_phase_Take-off run</th>\n",
       "      <th>flight_phase_Taxi</th>\n",
       "      <th>regions_Canada</th>\n",
       "      <th>regions_International</th>\n",
       "      <th>regions_Region_1</th>\n",
       "      <th>regions_Region_10</th>\n",
       "      <th>regions_Region_2</th>\n",
       "      <th>regions_Region_3</th>\n",
       "      <th>regions_Region_4</th>\n",
       "      <th>regions_Region_5</th>\n",
       "      <th>regions_Region_6</th>\n",
       "      <th>regions_Region_7</th>\n",
       "      <th>regions_Region_8</th>\n",
       "      <th>regions_Region_9</th>\n",
       "    </tr>\n",
       "  </thead>\n",
       "  <tbody>\n",
       "    <tr>\n",
       "      <th>0</th>\n",
       "      <td>1</td>\n",
       "      <td>1</td>\n",
       "      <td>3</td>\n",
       "      <td>1</td>\n",
       "      <td>2</td>\n",
       "      <td>0</td>\n",
       "      <td>1</td>\n",
       "      <td>0</td>\n",
       "      <td>0</td>\n",
       "      <td>1</td>\n",
       "      <td>2000</td>\n",
       "      <td>11</td>\n",
       "      <td>4</td>\n",
       "      <td>0</td>\n",
       "      <td>1</td>\n",
       "      <td>0</td>\n",
       "      <td>0</td>\n",
       "      <td>0</td>\n",
       "      <td>0</td>\n",
       "      <td>0</td>\n",
       "      <td>0</td>\n",
       "      <td>0</td>\n",
       "      <td>0</td>\n",
       "      <td>0</td>\n",
       "      <td>1</td>\n",
       "      <td>0</td>\n",
       "      <td>0</td>\n",
       "      <td>0</td>\n",
       "      <td>0</td>\n",
       "      <td>0</td>\n",
       "      <td>0</td>\n",
       "      <td>0</td>\n",
       "    </tr>\n",
       "    <tr>\n",
       "      <th>1</th>\n",
       "      <td>1</td>\n",
       "      <td>0</td>\n",
       "      <td>3</td>\n",
       "      <td>1</td>\n",
       "      <td>2</td>\n",
       "      <td>0</td>\n",
       "      <td>0</td>\n",
       "      <td>1</td>\n",
       "      <td>1</td>\n",
       "      <td>0</td>\n",
       "      <td>2001</td>\n",
       "      <td>7</td>\n",
       "      <td>3</td>\n",
       "      <td>0</td>\n",
       "      <td>0</td>\n",
       "      <td>0</td>\n",
       "      <td>1</td>\n",
       "      <td>0</td>\n",
       "      <td>0</td>\n",
       "      <td>0</td>\n",
       "      <td>0</td>\n",
       "      <td>0</td>\n",
       "      <td>0</td>\n",
       "      <td>0</td>\n",
       "      <td>0</td>\n",
       "      <td>0</td>\n",
       "      <td>0</td>\n",
       "      <td>0</td>\n",
       "      <td>1</td>\n",
       "      <td>0</td>\n",
       "      <td>0</td>\n",
       "      <td>0</td>\n",
       "    </tr>\n",
       "    <tr>\n",
       "      <th>2</th>\n",
       "      <td>1</td>\n",
       "      <td>0</td>\n",
       "      <td>3</td>\n",
       "      <td>0</td>\n",
       "      <td>2</td>\n",
       "      <td>0</td>\n",
       "      <td>0</td>\n",
       "      <td>0</td>\n",
       "      <td>0</td>\n",
       "      <td>0</td>\n",
       "      <td>2001</td>\n",
       "      <td>9</td>\n",
       "      <td>5</td>\n",
       "      <td>1</td>\n",
       "      <td>0</td>\n",
       "      <td>0</td>\n",
       "      <td>0</td>\n",
       "      <td>0</td>\n",
       "      <td>0</td>\n",
       "      <td>0</td>\n",
       "      <td>0</td>\n",
       "      <td>0</td>\n",
       "      <td>0</td>\n",
       "      <td>0</td>\n",
       "      <td>0</td>\n",
       "      <td>0</td>\n",
       "      <td>0</td>\n",
       "      <td>0</td>\n",
       "      <td>1</td>\n",
       "      <td>0</td>\n",
       "      <td>0</td>\n",
       "      <td>0</td>\n",
       "    </tr>\n",
       "    <tr>\n",
       "      <th>3</th>\n",
       "      <td>1</td>\n",
       "      <td>0</td>\n",
       "      <td>3</td>\n",
       "      <td>0</td>\n",
       "      <td>2</td>\n",
       "      <td>0</td>\n",
       "      <td>0</td>\n",
       "      <td>1</td>\n",
       "      <td>1</td>\n",
       "      <td>1</td>\n",
       "      <td>2002</td>\n",
       "      <td>9</td>\n",
       "      <td>4</td>\n",
       "      <td>0</td>\n",
       "      <td>1</td>\n",
       "      <td>0</td>\n",
       "      <td>0</td>\n",
       "      <td>0</td>\n",
       "      <td>0</td>\n",
       "      <td>0</td>\n",
       "      <td>0</td>\n",
       "      <td>0</td>\n",
       "      <td>0</td>\n",
       "      <td>1</td>\n",
       "      <td>0</td>\n",
       "      <td>0</td>\n",
       "      <td>0</td>\n",
       "      <td>0</td>\n",
       "      <td>0</td>\n",
       "      <td>0</td>\n",
       "      <td>0</td>\n",
       "      <td>0</td>\n",
       "    </tr>\n",
       "    <tr>\n",
       "      <th>4</th>\n",
       "      <td>1</td>\n",
       "      <td>0</td>\n",
       "      <td>3</td>\n",
       "      <td>0</td>\n",
       "      <td>2</td>\n",
       "      <td>0</td>\n",
       "      <td>0</td>\n",
       "      <td>0</td>\n",
       "      <td>0</td>\n",
       "      <td>0</td>\n",
       "      <td>2003</td>\n",
       "      <td>6</td>\n",
       "      <td>1</td>\n",
       "      <td>1</td>\n",
       "      <td>0</td>\n",
       "      <td>0</td>\n",
       "      <td>0</td>\n",
       "      <td>0</td>\n",
       "      <td>0</td>\n",
       "      <td>0</td>\n",
       "      <td>0</td>\n",
       "      <td>0</td>\n",
       "      <td>0</td>\n",
       "      <td>0</td>\n",
       "      <td>0</td>\n",
       "      <td>1</td>\n",
       "      <td>0</td>\n",
       "      <td>0</td>\n",
       "      <td>0</td>\n",
       "      <td>0</td>\n",
       "      <td>0</td>\n",
       "      <td>0</td>\n",
       "    </tr>\n",
       "  </tbody>\n",
       "</table>\n",
       "</div>"
      ],
      "text/plain": [
       "   is_airplane  is_more_1000ft  number_struck  is_damaged  number_engines  \\\n",
       "0            1               1              3           1               2   \n",
       "1            1               0              3           1               2   \n",
       "2            1               0              3           0               2   \n",
       "3            1               0              3           0               2   \n",
       "4            1               0              3           0               2   \n",
       "\n",
       "   is_precipitation  wildlife_size  conditions_sky  is_pilot_warned  \\\n",
       "0                 0              1               0                0   \n",
       "1                 0              0               1                1   \n",
       "2                 0              0               0                0   \n",
       "3                 0              0               1                1   \n",
       "4                 0              0               0                0   \n",
       "\n",
       "   is_aircraft_large  Year  Month  Weekday  flight_phase_Approach  \\\n",
       "0                  1  2000     11        4                      0   \n",
       "1                  0  2001      7        3                      0   \n",
       "2                  0  2001      9        5                      1   \n",
       "3                  1  2002      9        4                      0   \n",
       "4                  0  2003      6        1                      1   \n",
       "\n",
       "   flight_phase_Climb  flight_phase_Descent  flight_phase_Landing Roll  \\\n",
       "0                   1                     0                          0   \n",
       "1                   0                     0                          1   \n",
       "2                   0                     0                          0   \n",
       "3                   1                     0                          0   \n",
       "4                   0                     0                          0   \n",
       "\n",
       "   flight_phase_Parked  flight_phase_Take-off run  flight_phase_Taxi  \\\n",
       "0                    0                          0                  0   \n",
       "1                    0                          0                  0   \n",
       "2                    0                          0                  0   \n",
       "3                    0                          0                  0   \n",
       "4                    0                          0                  0   \n",
       "\n",
       "   regions_Canada  regions_International  regions_Region_1  regions_Region_10  \\\n",
       "0               0                      0                 0                  0   \n",
       "1               0                      0                 0                  0   \n",
       "2               0                      0                 0                  0   \n",
       "3               0                      0                 0                  1   \n",
       "4               0                      0                 0                  0   \n",
       "\n",
       "   regions_Region_2  regions_Region_3  regions_Region_4  regions_Region_5  \\\n",
       "0                 1                 0                 0                 0   \n",
       "1                 0                 0                 0                 0   \n",
       "2                 0                 0                 0                 0   \n",
       "3                 0                 0                 0                 0   \n",
       "4                 0                 1                 0                 0   \n",
       "\n",
       "   regions_Region_6  regions_Region_7  regions_Region_8  regions_Region_9  \n",
       "0                 0                 0                 0                 0  \n",
       "1                 1                 0                 0                 0  \n",
       "2                 1                 0                 0                 0  \n",
       "3                 0                 0                 0                 0  \n",
       "4                 0                 0                 0                 0  "
      ]
     },
     "execution_count": 2,
     "metadata": {},
     "output_type": "execute_result"
    }
   ],
   "source": [
    "# Reading the csv file into a data frame\n",
    "cleaned_df = pd.read_csv('data/cleaned_df.csv')\n",
    "\n",
    "# This will show all columns when calling df.head()\n",
    "pd.set_option(\"display.max_columns\", None)\n",
    "\n",
    "# Checking the first 5 rows of the dataset\n",
    "cleaned_df.head()"
   ]
  },
  {
   "cell_type": "markdown",
   "metadata": {},
   "source": [
    "## Train-Test Split and Scalling"
   ]
  },
  {
   "cell_type": "markdown",
   "metadata": {},
   "source": [
    "Next, we will separate our data into the target (i.e. `is_damaged`) and the features, as well as split the data into train and test sets. We will use a test size of 30% as well as `stratify = y` in order to keep the same proportion of target classes in both sets. \n",
    "<br>\n",
    "<br>\n",
    "In addition, like in Part 2, the data will be balanced (in this case upsampling class 1) and scaled using the Standard Scaler. "
   ]
  },
  {
   "cell_type": "code",
   "execution_count": 3,
   "metadata": {},
   "outputs": [],
   "source": [
    "# Split the data into train and test sets\n",
    "\n",
    "# Set the features \n",
    "X = cleaned_df.drop('is_damaged', axis=1)\n",
    "\n",
    "# Set the target\n",
    "y = cleaned_df['is_damaged']\n",
    "\n",
    "# Split the data up in train and test sets\n",
    "X_train, X_test, y_train, y_test = train_test_split(X, y, test_size=0.30, \n",
    "                                                    stratify = y,\n",
    "                                                    random_state=1)"
   ]
  },
  {
   "cell_type": "code",
   "execution_count": 4,
   "metadata": {},
   "outputs": [
    {
     "name": "stdout",
     "output_type": "stream",
     "text": [
      "Number of class 1 examples before: 1734\n",
      "Number of class 1 examples after: 16156\n"
     ]
    }
   ],
   "source": [
    "# Upsample\n",
    "print('Number of class 1 examples before:', X_train[y_train == 1].shape[0])\n",
    "\n",
    "X_upsampled, y_upsampled = resample(X_train[y_train == 1], \n",
    "                                    y_train[y_train == 1], \n",
    "                                    replace=True, \n",
    "                                    n_samples=X_train[y_train == 0].shape[0], \n",
    "                                    random_state=123)\n",
    "\n",
    "print('Number of class 1 examples after:', X_upsampled.shape[0])\n",
    "\n",
    "# Combine upsample with original data\n",
    "X_train = np.vstack((X_train[y_train == 0], X_upsampled))\n",
    "y_train = np.hstack((y_train[y_train == 0], y_upsampled))"
   ]
  },
  {
   "cell_type": "code",
   "execution_count": 5,
   "metadata": {},
   "outputs": [],
   "source": [
    "# Scale the data\n",
    "\n",
    "# Define and fit the scaler\n",
    "scaler = StandardScaler().fit(X_train)\n",
    "\n",
    "# Transform the train and test data\n",
    "X_train = scaler.transform(X_train)\n",
    "X_test = scaler.transform(X_test)"
   ]
  },
  {
   "cell_type": "code",
   "execution_count": 6,
   "metadata": {},
   "outputs": [],
   "source": [
    "# Dealing with the error: \n",
    "# ValueError: Failed to find data adapter that can handle input: <class 'numpy.ndarray'>, <class 'pandas.core.series.Series'>\n",
    "X_train = np.asarray(X_train)\n",
    "y_train = np.asarray(y_train)\n",
    "X_test = np.asarray(X_test)\n",
    "y_test = np.asarray(y_test)"
   ]
  },
  {
   "cell_type": "markdown",
   "metadata": {},
   "source": [
    "# Neural Network"
   ]
  },
  {
   "cell_type": "markdown",
   "metadata": {},
   "source": [
    "For this assignment, we will use TensorFlow and Keras to build a Neural Network. Building a network with Keras follows these four separate steps:\n",
    "1. **Build the model**: This is the step where we will declare the structure of the network — primarily the types and sizes of the hidden layers.\n",
    "2. **Compile the model**: This step allows us to customize some of the settings that will be used for training, like the optimizer, the loss and the metrics.\n",
    "3. **Train the model**\n",
    "4. **Evaluate the model and generate predictions**"
   ]
  },
  {
   "cell_type": "markdown",
   "metadata": {},
   "source": [
    "Below, we built a neural network using 5 hidden layers with 40 nodes each. A Rectified Linear Activation Function (or ReLU) was used in all hidden layers. To control overfitting, a 20% dropout between each layer was applied. Finally, we used a sigmoid activation function was used for the output layer. This model has a single output neuron to predict the probability of damaging and non-damaging strikes.\n",
    "<br>\n",
    "The model was compiled with Adam optimizer, Binary Cross-Entropy loss function, and Binary Accuracy metric for the above classification model. After that, the model was trained for 25 epochs.\n",
    "<br>\n",
    "<br>\n",
    "Building a neural network is an iterative process, and the model described above and showed below is the result of many models built in order to maximize the accuracy of both train and test scores while also reducing overfitting. Previous iterations involved changing the number of hidden layers, nodes, activation functions, dropout rate, regularization, and batch normalization.\n",
    "<br>\n",
    "<br>\n",
    "The final model is presented below."
   ]
  },
  {
   "cell_type": "code",
   "execution_count": 7,
   "metadata": {
    "scrolled": true
   },
   "outputs": [
    {
     "name": "stderr",
     "output_type": "stream",
     "text": [
      "2021-09-22 09:55:22.686917: I tensorflow/core/platform/cpu_feature_guard.cc:145] This TensorFlow binary is optimized with Intel(R) MKL-DNN to use the following CPU instructions in performance critical operations:  SSE4.1 SSE4.2\n",
      "To enable them in non-MKL-DNN operations, rebuild TensorFlow with the appropriate compiler flags.\n",
      "2021-09-22 09:55:22.687469: I tensorflow/core/common_runtime/process_util.cc:115] Creating new thread pool with default inter op setting: 8. Tune using inter_op_parallelism_threads for best performance.\n"
     ]
    },
    {
     "name": "stdout",
     "output_type": "stream",
     "text": [
      "Train on 32312 samples, validate on 7668 samples\n",
      "Epoch 1/25\n",
      "32312/32312 [==============================] - 4s 117us/sample - loss: 0.5570 - binary_accuracy: 0.7243 - val_loss: 0.5010 - val_binary_accuracy: 0.7581\n",
      "Epoch 2/25\n",
      "32312/32312 [==============================] - 3s 86us/sample - loss: 0.5077 - binary_accuracy: 0.7698 - val_loss: 0.4622 - val_binary_accuracy: 0.7817\n",
      "Epoch 3/25\n",
      "32312/32312 [==============================] - 3s 84us/sample - loss: 0.4957 - binary_accuracy: 0.7733 - val_loss: 0.4667 - val_binary_accuracy: 0.7773\n",
      "Epoch 4/25\n",
      "32312/32312 [==============================] - 3s 85us/sample - loss: 0.4887 - binary_accuracy: 0.7793 - val_loss: 0.4685 - val_binary_accuracy: 0.7890\n",
      "Epoch 5/25\n",
      "32312/32312 [==============================] - 3s 84us/sample - loss: 0.4824 - binary_accuracy: 0.7804 - val_loss: 0.4929 - val_binary_accuracy: 0.7716\n",
      "Epoch 6/25\n",
      "32312/32312 [==============================] - 3s 89us/sample - loss: 0.4782 - binary_accuracy: 0.7822 - val_loss: 0.4253 - val_binary_accuracy: 0.7949\n",
      "Epoch 7/25\n",
      "32312/32312 [==============================] - 3s 86us/sample - loss: 0.4701 - binary_accuracy: 0.7866 - val_loss: 0.4586 - val_binary_accuracy: 0.7675\n",
      "Epoch 8/25\n",
      "32312/32312 [==============================] - 3s 86us/sample - loss: 0.4650 - binary_accuracy: 0.7914 - val_loss: 0.4416 - val_binary_accuracy: 0.7733\n",
      "Epoch 9/25\n",
      "32312/32312 [==============================] - 3s 84us/sample - loss: 0.4619 - binary_accuracy: 0.7928 - val_loss: 0.4335 - val_binary_accuracy: 0.8033\n",
      "Epoch 10/25\n",
      "32312/32312 [==============================] - 3s 84us/sample - loss: 0.4576 - binary_accuracy: 0.7937 - val_loss: 0.4551 - val_binary_accuracy: 0.7986\n",
      "Epoch 11/25\n",
      "32312/32312 [==============================] - 3s 84us/sample - loss: 0.4561 - binary_accuracy: 0.7954 - val_loss: 0.4766 - val_binary_accuracy: 0.7718\n",
      "Epoch 12/25\n",
      "32312/32312 [==============================] - 3s 86us/sample - loss: 0.4511 - binary_accuracy: 0.7972 - val_loss: 0.4269 - val_binary_accuracy: 0.7937\n",
      "Epoch 13/25\n",
      "32312/32312 [==============================] - 3s 84us/sample - loss: 0.4489 - binary_accuracy: 0.7983 - val_loss: 0.4360 - val_binary_accuracy: 0.7946\n",
      "Epoch 14/25\n",
      "32312/32312 [==============================] - 3s 85us/sample - loss: 0.4467 - binary_accuracy: 0.8012 - val_loss: 0.4290 - val_binary_accuracy: 0.8070\n",
      "Epoch 15/25\n",
      "32312/32312 [==============================] - 3s 84us/sample - loss: 0.4418 - binary_accuracy: 0.8023 - val_loss: 0.4681 - val_binary_accuracy: 0.7570\n",
      "Epoch 16/25\n",
      "32312/32312 [==============================] - 3s 85us/sample - loss: 0.4391 - binary_accuracy: 0.8046 - val_loss: 0.4456 - val_binary_accuracy: 0.7874\n",
      "Epoch 17/25\n",
      "32312/32312 [==============================] - 3s 89us/sample - loss: 0.4347 - binary_accuracy: 0.8073 - val_loss: 0.3923 - val_binary_accuracy: 0.8144\n",
      "Epoch 18/25\n",
      "32312/32312 [==============================] - 3s 85us/sample - loss: 0.4312 - binary_accuracy: 0.8103 - val_loss: 0.4525 - val_binary_accuracy: 0.7851\n",
      "Epoch 19/25\n",
      "32312/32312 [==============================] - 3s 91us/sample - loss: 0.4294 - binary_accuracy: 0.8083 - val_loss: 0.4500 - val_binary_accuracy: 0.8009\n",
      "Epoch 20/25\n",
      "32312/32312 [==============================] - 3s 94us/sample - loss: 0.4273 - binary_accuracy: 0.8109 - val_loss: 0.4527 - val_binary_accuracy: 0.7913\n",
      "Epoch 21/25\n",
      "32312/32312 [==============================] - 3s 94us/sample - loss: 0.4263 - binary_accuracy: 0.8115 - val_loss: 0.4102 - val_binary_accuracy: 0.8174\n",
      "Epoch 22/25\n",
      "32312/32312 [==============================] - 3s 89us/sample - loss: 0.4229 - binary_accuracy: 0.8138 - val_loss: 0.4472 - val_binary_accuracy: 0.7870\n",
      "Epoch 23/25\n",
      "32312/32312 [==============================] - 3s 93us/sample - loss: 0.4215 - binary_accuracy: 0.8141 - val_loss: 0.4274 - val_binary_accuracy: 0.8036\n",
      "Epoch 24/25\n",
      "32312/32312 [==============================] - 3s 92us/sample - loss: 0.4165 - binary_accuracy: 0.8186 - val_loss: 0.4148 - val_binary_accuracy: 0.8095\n",
      "Epoch 25/25\n",
      "32312/32312 [==============================] - 3s 84us/sample - loss: 0.4183 - binary_accuracy: 0.8166 - val_loss: 0.3999 - val_binary_accuracy: 0.8230\n"
     ]
    }
   ],
   "source": [
    "# Create a new sequential model\n",
    "model = keras.Sequential()\n",
    "\n",
    "# Declare the hidden layers\n",
    "model.add(layers.Dense(40, activation=\"relu\"))\n",
    "model.add(layers.Dropout(0.2))\n",
    "\n",
    "model.add(layers.Dense(40, activation=\"relu\"))\n",
    "model.add(layers.Dropout(0.2))\n",
    "\n",
    "model.add(layers.Dense(40, activation=\"relu\"))\n",
    "model.add(layers.Dropout(0.2))\n",
    "\n",
    "model.add(layers.Dense(40, activation=\"relu\"))\n",
    "model.add(layers.Dropout(0.2))\n",
    "\n",
    "model.add(layers.Dense(40, activation=\"relu\"))\n",
    "model.add(layers.Dropout(0.2))\n",
    "\n",
    "# Declare the output layer\n",
    "model.add(layers.Dense(1, activation=\"sigmoid\"))\n",
    "\n",
    "# Compile the model\n",
    "model.compile(\n",
    "    optimizer=keras.optimizers.Adam(),\n",
    "    loss=keras.losses.BinaryCrossentropy(),\n",
    "    metrics=[keras.metrics.BinaryAccuracy()]\n",
    ")                \n",
    "\n",
    "# Train the model\n",
    "history = model.fit(X_train, y_train, epochs=25, verbose=1, validation_data=(X_test, y_test))"
   ]
  },
  {
   "cell_type": "markdown",
   "metadata": {},
   "source": [
    "The plots for the loss and accuracy over the epochs are presented below for the train and test sets. We can see that the both training and testing losses decrease with the epochs, which suggests no overfitting. In addition, the accuracies of both sets increase with time suggesting that the model continued learning at each epoch."
   ]
  },
  {
   "cell_type": "code",
   "execution_count": 8,
   "metadata": {},
   "outputs": [
    {
     "data": {
      "image/png": "[encoded data removed]",
      "text/plain": [
       "<Figure size 432x288 with 1 Axes>"
      ]
     },
     "metadata": {
      "needs_background": "light"
     },
     "output_type": "display_data"
    }
   ],
   "source": [
    "# Plot train and test loss by epoch\n",
    "plt.plot(history.history['loss'])\n",
    "plt.plot(history.history['val_loss'])\n",
    "plt.title('Model Loss')\n",
    "plt.ylabel('Loss')\n",
    "plt.xlabel('Epoch')\n",
    "plt.legend(['Train', 'Test'])\n",
    "plt.show()"
   ]
  },
  {
   "cell_type": "code",
   "execution_count": 15,
   "metadata": {},
   "outputs": [
    {
     "data": {
      "image/png": "[encoded data removed]",
      "text/plain": [
       "<Figure size 432x288 with 1 Axes>"
      ]
     },
     "metadata": {
      "needs_background": "light"
     },
     "output_type": "display_data"
    }
   ],
   "source": [
    "# Visualize the training\n",
    "\n",
    "# Accuracy\n",
    "plt.figure()\n",
    "plt.plot(history.history['binary_accuracy'])\n",
    "plt.plot(history.history['val_binary_accuracy'])\n",
    "plt.xlabel('Epoch of training')\n",
    "plt.ylabel('Binary Accuracy')\n",
    "plt.legend(['Train', 'Test'])\n",
    "plt.title('Accuracy for Final Model')\n",
    "plt.show()"
   ]
  },
  {
   "cell_type": "markdown",
   "metadata": {},
   "source": [
    "# Evaluating the Model"
   ]
  },
  {
   "cell_type": "markdown",
   "metadata": {},
   "source": [
    "Comparing the accuracy score of train and test sets."
   ]
  },
  {
   "cell_type": "code",
   "execution_count": 10,
   "metadata": {},
   "outputs": [
    {
     "name": "stdout",
     "output_type": "stream",
     "text": [
      "Train Accuracy: 0.8166\n",
      "Test Accuracy: 0.8230\n"
     ]
    }
   ],
   "source": [
    "# Get the accuracy of train set\n",
    "train_accuracy = history.history[\"binary_accuracy\"][-1]\n",
    "print(f\"Train Accuracy: {train_accuracy:.4f}\")\n",
    "\n",
    "# Evaluate with test set\n",
    "result = model.evaluate(X_test,y_test, verbose=0)\n",
    "print(f\"Test Accuracy: {result[1]:.4f}\") "
   ]
  },
  {
   "cell_type": "markdown",
   "metadata": {},
   "source": [
    "The train and test accuracies were 81.6% and 82.3%, respectively.\n",
    "<br>\n",
    "Below, the confusion matrix for the final Neural Network model is presented."
   ]
  },
  {
   "cell_type": "code",
   "execution_count": 11,
   "metadata": {},
   "outputs": [],
   "source": [
    "# Get the prediction value\n",
    "y_pred = model.predict(X_test).round().astype(int)"
   ]
  },
  {
   "cell_type": "code",
   "execution_count": 12,
   "metadata": {},
   "outputs": [
    {
     "data": {
      "text/html": [
       "<div>\n",
       "<style scoped>\n",
       "    .dataframe tbody tr th:only-of-type {\n",
       "        vertical-align: middle;\n",
       "    }\n",
       "\n",
       "    .dataframe tbody tr th {\n",
       "        vertical-align: top;\n",
       "    }\n",
       "\n",
       "    .dataframe thead th {\n",
       "        text-align: right;\n",
       "    }\n",
       "</style>\n",
       "<table border=\"1\" class=\"dataframe\">\n",
       "  <thead>\n",
       "    <tr style=\"text-align: right;\">\n",
       "      <th></th>\n",
       "      <th>Predicted Negative</th>\n",
       "      <th>Predicted Positive</th>\n",
       "    </tr>\n",
       "  </thead>\n",
       "  <tbody>\n",
       "    <tr>\n",
       "      <th>True Negative</th>\n",
       "      <td>5841</td>\n",
       "      <td>1084</td>\n",
       "    </tr>\n",
       "    <tr>\n",
       "      <th>True Positive</th>\n",
       "      <td>273</td>\n",
       "      <td>470</td>\n",
       "    </tr>\n",
       "  </tbody>\n",
       "</table>\n",
       "</div>"
      ],
      "text/plain": [
       "               Predicted Negative  Predicted Positive\n",
       "True Negative                5841                1084\n",
       "True Positive                 273                 470"
      ]
     },
     "metadata": {},
     "output_type": "display_data"
    }
   ],
   "source": [
    "# Generate confusion matrix\n",
    "cf_matrix = confusion_matrix(y_test, y_pred)\n",
    "\n",
    "# label rows and columns\n",
    "cf_df = pd.DataFrame(\n",
    "    cf_matrix, \n",
    "    columns=[\"Predicted Negative\", \"Predicted Positive\"],\n",
    "    index=[\"True Negative\", \"True Positive\"]\n",
    ")\n",
    "\n",
    "display(cf_df)"
   ]
  },
  {
   "cell_type": "markdown",
   "metadata": {},
   "source": [
    "Let's check the other metrics and see how the Neural Network compares to the other models."
   ]
  },
  {
   "cell_type": "code",
   "execution_count": 13,
   "metadata": {},
   "outputs": [
    {
     "name": "stdout",
     "output_type": "stream",
     "text": [
      "Accuracy Score : 0.8230307772561294\n",
      "Precision Score : 0.30244530244530243\n",
      "Recall Score : 0.6325706594885598\n",
      "F1 Score : 0.40922942969090115\n",
      "ROC AUC Score : 0.7380181817298395\n"
     ]
    }
   ],
   "source": [
    "#Predict values based on new parameters\n",
    "y_pred = model.predict(X_test).round().astype(int)\n",
    "\n",
    "# Model Evaluation metrics \n",
    "print('Accuracy Score : ' + str(accuracy_score(y_test,y_pred)))\n",
    "print('Precision Score : ' + str(precision_score(y_test,y_pred)))\n",
    "print('Recall Score : ' + str(recall_score(y_test,y_pred)))\n",
    "print('F1 Score : ' + str(f1_score(y_test,y_pred)))\n",
    "print('ROC AUC Score : ' + str(roc_auc_score(y_test,y_pred)))"
   ]
  },
  {
   "cell_type": "markdown",
   "metadata": {},
   "source": [
    "| Model | Validation Accuracy |Test Accuracy| Test Precision |Test Recall| Test F1 |Test ROC AUC |\n",
    "| ----- | ------------------- |------------ | ------------------- |------------- | ------- |------------ |\n",
    "| Logistic Regression | 75.6% | 77.6% | 26.4% | 73.5% | 38.8% | 75.8% \n",
    "| KNN| 72.7% | 76.3% | 23.1% | 62.0% | 33.6% | 70%\n",
    "| SVM| 75.2% | 77.5% | 25.5% | 68.8% | 37.2% | 73.6%\n",
    "| Decision Tree| 75.4% | 68.9% | 20.6% | 77.6% | 32.6% | 72.8%\n",
    "| Random Forest| 76.3% | 73.1% | 22.8% | 74.3% | 34.9% | 73.7%\n",
    "| XGBoost| 76.5% | 75.3% | 24.5% | 74.7% | 36.9% | 75.0%\n",
    "| Neural Network | 81.6% | 82.3% | 30.2% | 63.2% | 40.9% | 73.8%  "
   ]
  },
  {
   "cell_type": "markdown",
   "metadata": {},
   "source": [
    "The table above compares the Neural Network with the classification models from Part 2. We can see that the test accuracy was significantly improved by the Neural Network (82.3%) compared to the other models. This means we can correctly predict the outcome of a bird strike 82.3% of the time.\n",
    "However, similarly to what happened with the Decision Tree, this gain in accuracy was counterbalanced by a loss in the recall. In fact, the test recall of the neural network was only higher than the KNN model."
   ]
  },
  {
   "cell_type": "markdown",
   "metadata": {},
   "source": [
    "# Conclusion"
   ]
  },
  {
   "cell_type": "markdown",
   "metadata": {},
   "source": [
    "In conclusion, the Neural Network had the highest accuracy in predicting the outcome of bird strikes compared to the other models, and it could be used for prediction and warning systems for pilots and other operators if prioritizing this metric. If recall is preferred as a score, then the decision tree model is recommended. On the other hand, XGBoost is suggested for a model balanced between recall and accuracy.\n",
    "<br>\n",
    "<br>\n",
    "As discussed before, the learning gain between these models seems to be limited, with gains in accuracy being counter-balanced by loss in recall, and vice versa. Thus, it is suggested to include other explanatory features that may be missing from the present dataset. Such features could improve the predictive power of the models and, consequently, increase both accuracy and recall. Examples of additional features are the speed of the aircraft, the angle of the aircraft in relation to the soil and the bird at the moment of the strike, as well as conditions of the aircraft such as age and miles/years in service."
   ]
  },
  {
   "cell_type": "markdown",
   "metadata": {},
   "source": [
    "# References"
   ]
  },
  {
   "cell_type": "markdown",
   "metadata": {},
   "source": [
    "[1] DeepAI. Neural Network. https://deepai.org/machine-learning-glossary-and-terms/neural-network. Accessed on September 22, 2021.\n",
    "<br>\n",
    "[2] IBM. What are Neural Networks. https://www.ibm.com/cloud/learn/neural-networks. Accessed on September 22, 2021."
   ]
  }
 ],
 "metadata": {
  "kernelspec": {
   "display_name": "Python [conda env:deeplearning]",
   "language": "python",
   "name": "conda-env-deeplearning-py"
  },
  "language_info": {
   "codemirror_mode": {
    "name": "ipython",
    "version": 3
   },
   "file_extension": ".py",
   "mimetype": "text/x-python",
   "name": "python",
   "nbconvert_exporter": "python",
   "pygments_lexer": "ipython3",
   "version": "3.7.11"
  }
 },
 "nbformat": 4,
 "nbformat_minor": 4
}
